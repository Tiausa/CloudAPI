{
  "nbformat": 4,
  "nbformat_minor": 0,
  "metadata": {
    "anaconda-cloud": {},
    "kernelspec": {
      "display_name": "Python 3",
      "language": "python",
      "name": "python3"
    },
    "language_info": {
      "codemirror_mode": {
        "name": "ipython",
        "version": 3
      },
      "file_extension": ".py",
      "mimetype": "text/x-python",
      "name": "python",
      "nbconvert_exporter": "python",
      "pygments_lexer": "ipython3",
      "version": "3.7.3"
    },
    "colab": {
      "provenance": [],
      "collapsed_sections": [
        "ySfpcaiJo7G2",
        "FPqxhiAqo7G5",
        "VVeNiRpRo7HB",
        "G_O5bChvo7HX",
        "pF1X-R--o7Hf",
        "F_PalEmWo7H-",
        "NjlNq8TNo7IZ",
        "xPfLzRtXo7Id",
        "FaI5FQzno7Iq"
      ],
      "include_colab_link": true
    }
  },
  "cells": [
    {
      "cell_type": "markdown",
      "metadata": {
        "id": "view-in-github",
        "colab_type": "text"
      },
      "source": [
        "<a href=\"https://colab.research.google.com/github/Tiausa/CloudAPI/blob/master/Copy_of_Module06_lecturea.ipynb\" target=\"_parent\"><img src=\"https://colab.research.google.com/assets/colab-badge.svg\" alt=\"Open In Colab\"/></a>"
      ]
    },
    {
      "cell_type": "markdown",
      "metadata": {
        "id": "qB9Qf1z1o7Go"
      },
      "source": [
        "# Module 6 - Compressing Data via Dimensionality Reduction"
      ]
    },
    {
      "cell_type": "markdown",
      "metadata": {
        "heading_collapsed": true,
        "id": "0IYnORxyo7Gs"
      },
      "source": [
        "# Review"
      ]
    },
    {
      "cell_type": "markdown",
      "metadata": {
        "hidden": true,
        "id": "C2SzfxcFo7Gt"
      },
      "source": [
        "**“No Free Lunch” theorem** tells us no algorithm can work best for every problem, especially for supervised learning.\n",
        "\n",
        "Thus, often we try different algorithms to solve a problem, while using a hold-out **test set** of data to evaluate performance and select the winner.\n",
        "\n",
        "Eventually, we will pick an algorithm that is suitable for the data and problem.\n",
        "\n",
        "**It is important to be familiar with the common machine learning algorithms. Here is a summary:**"
      ]
    },
    {
      "cell_type": "markdown",
      "metadata": {
        "hidden": true,
        "id": "S5YPjhuYo7Gu"
      },
      "source": [
        "### Linear\n",
        "\n",
        "1. Perceptron, Adline (Classification)\n",
        "2. [Linear Regression](https://scikit-learn.org/stable/modules/linear_model.html) (Regression)\n",
        "3. [Logistic Regression](https://scikit-learn.org/stable/modules/generated/sklearn.linear_model.LogisticRegression.html) (Classification)\n",
        "4. Linear SVM (C, R)\n",
        "\n",
        "**Strengths:** \n",
        "\n",
        "- easy to explain (interpretable)\n",
        "- easy to compute\n",
        "\n",
        "**Weaknesses:** \n",
        "\n",
        "- usually performs poorly for non-linear relationships or non-linear decision boundary\n",
        "\n",
        "### Nonlinear\n",
        "\n",
        "5. [Kernel SVM](https://scikit-learn.org/stable/modules/generated/sklearn.svm.SVC.html) (C, R)\n",
        "6. Decision Tree (C, R)\n",
        "7. [Ensemble Trees](https://scikit-learn.org/stable/modules/ensemble.html) (Random Forest, Gradient Boost Tree) (C, R)\n",
        "8. [K Nearest Neighbors](https://scikit-learn.org/stable/modules/neighbors.html) (C, R)\n",
        "\n",
        "**Strengths:** \n",
        "\n",
        "- can learn non-linear relationships and boundaries\n",
        "- Random Forest is scalable easily\n",
        "\n",
        "**Weaknesses:**\n",
        "\n",
        "- the interpretation is difficult\n",
        "- easy to overfitting\n",
        "- KNN is memory-intensive, perform poorly for high-dimensional data \n",
        "\n",
        "**In practice**, linear regression, logistic regression, and tree ensembles are often used.\n",
        "\n",
        "**Question 6-1**: As to each of the method mentioned above, how to make the model less prone to overfitting?"
      ]
    },
    {
      "cell_type": "markdown",
      "metadata": {
        "id": "3OrlNwKUo7Gv"
      },
      "source": [
        "# Overview"
      ]
    },
    {
      "cell_type": "markdown",
      "metadata": {
        "id": "RjncY9PMo7Gw"
      },
      "source": [
        "- [Unsupervised dimensionality reduction via principal component analysis (PCA)](#Unsupervised-dimensionality-reduction-via-principal-component-analysis)\n",
        "- [Supervised data compression via linear discriminant analysis (LDA)](#Supervised-data-compression-via-linear-discriminant-analysis)\n",
        "- [Using kernel principal component analysis for nonlinear mappings](#Using-kernel-principal-component-analysis-for-nonlinear-mappings)"
      ]
    },
    {
      "cell_type": "markdown",
      "metadata": {
        "id": "YYGM1U9ao7G1"
      },
      "source": [
        "**Question 6-2:** \n",
        "\n",
        "What is the difference between unsupervised and supervised learning?"
      ]
    },
    {
      "cell_type": "markdown",
      "metadata": {
        "heading_collapsed": true,
        "id": "ySfpcaiJo7G2"
      },
      "source": [
        "## Unsupervised dimensionality reduction via **Principal Component Analysis (PCA)**"
      ]
    },
    {
      "cell_type": "markdown",
      "metadata": {
        "hidden": true,
        "id": "xNt1JD6Jo7G3"
      },
      "source": [
        "In machine learning, **dimensionality** simply means the number of features (i.e. independent variables) in the dataset.\n",
        "\n",
        "When the number of features is very large relative to the number of observations in the dataset, many algorithms struggle to train effective models. This is called the “Curse of Dimensionality”.\n",
        "\n",
        "We have learned **feature selection**, which is for filtering irrelevant or redundant features from the dataset. \n",
        "\n",
        "**Question 6-3:** What methods we learned before can do the feature selection?"
      ]
    },
    {
      "cell_type": "markdown",
      "metadata": {
        "hidden": true,
        "id": "nHg6EVp7o7G4"
      },
      "source": [
        "Another method to reduce the dimensionality is **feature extraction**.\n",
        "The key difference between feature selection and extraction is that **feature selection keeps a subset of the original features while feature extraction creates brand new ones**."
      ]
    },
    {
      "cell_type": "markdown",
      "metadata": {
        "hidden": true,
        "id": "FPqxhiAqo7G5"
      },
      "source": [
        "## The main steps behind Principal Component Analysis (PCA)"
      ]
    },
    {
      "cell_type": "markdown",
      "metadata": {
        "hidden": true,
        "id": "QopODGwJo7G5"
      },
      "source": [
        "PCA helps us to identify patterns in data based on the correlation between\n",
        "features. In short, PCA aims to find the **directions of maximum variance** in high-dimensional data and **projects it onto a new subspace** with equal or fewer dimensions than the original one. \n",
        "\n",
        "**Principal components** of the new subspace can be interpreted as the **directions of maximum variance** given the constraint that the new feature axes are orthogonal to each other (uncorrelated to each other), as illustrated in the following figure:"
      ]
    },
    {
      "cell_type": "markdown",
      "metadata": {
        "id": "ibSGQMtz3Fdl"
      },
      "source": [
        "<div>\n",
        "<img src=\"https://github.com/franklin-univ-data-science/data/blob/master/images/05_01.png?raw=true\" width=\"600\"/>\n",
        "</div>"
      ]
    },
    {
      "cell_type": "markdown",
      "metadata": {
        "hidden": true,
        "id": "vebe8kUAo7G_"
      },
      "source": [
        "Given a $n\\times d$ feature matrix **X**:\n",
        "\n",
        "$ \\textbf{X} = [x_1, x_2, x_3, \\dotsc, x_d], x \\in \\mathbb{R}^{n \\times d}$\n",
        "\n",
        "\n",
        "times a $d \\times k$ matrix **W**,\n",
        "\n",
        "$\\textbf{W} \\in \\mathbb{R}^{d \\times k}$\n",
        "\n",
        "\n",
        "get a new n by k matrix **Z**:\n",
        "\n",
        "$ \\textbf{Z} = \\textbf{X}\\textbf{W} = [z_1, z_2, z_3, \\dotsc, z_k], z \\in \\mathbb{R}^{n \\times k}$\n",
        "\n"
      ]
    },
    {
      "cell_type": "markdown",
      "metadata": {
        "hidden": true,
        "id": "sFaDyd4Vo7HA"
      },
      "source": [
        "As a result of transforming the original d-dimensional data onto this new k-dimensional subspace with k principal components (typically k << d), the first principal component will have the largest possible variance, and all components are uncorrelated (orthogonal) to the each other — even if the input features are correlated, the resulting principal components will be mutually orthogonal (uncorrelated). \n",
        "\n",
        "**Note that the PCA directions are highly sensitive to data scaling**. When the features were measured on different scales, we want to assign equal importance to all features. Thus, we need to do feature scaling for the features prior to PCA.\n",
        "\n",
        "The steps of PCA:\n",
        "\n",
        "1. Standardize the d-dimensional dataset.\n",
        "2. Construct the covariance matrix.\n",
        "3. Decompose the covariance matrix into its eigenvectors and eigenvalues.\n",
        "4. Sort the eigenvalues by decreasing order to rank the corresponding eigenvectors.\n",
        "5. Select k eigenvectors which correspond to the k largest eigenvalues, where k is the dimensionality of the new feature subspace ( k ≤ d ).\n",
        "6. Construct a **projection matrix W** from the \"top\" k eigenvectors.\n",
        "7. Transform the d-dimensional input dataset X using the projection matrix W\n",
        "to obtain the new k-dimensional feature subspace.\n"
      ]
    },
    {
      "cell_type": "markdown",
      "metadata": {
        "hidden": true,
        "id": "VVeNiRpRo7HB"
      },
      "source": [
        "## Extracting the principal components step-by-step"
      ]
    },
    {
      "cell_type": "code",
      "metadata": {
        "hidden": true,
        "id": "Z5sB2dWPo7HB",
        "colab": {
          "base_uri": "https://localhost:8080/",
          "height": 267
        },
        "outputId": "d9942e33-fe73-4b20-c359-3034662bfb77"
      },
      "source": [
        "import pandas as pd\n",
        "\n",
        "df_wine = pd.read_csv('https://archive.ics.uci.edu/ml/'\n",
        "                      'machine-learning-databases/wine/wine.data',\n",
        "                      header=None)\n",
        "\n",
        "df_wine.columns = ['Class label', 'Alcohol', 'Malic acid', 'Ash',\n",
        "                   'Alcalinity of ash', 'Magnesium', 'Total phenols',\n",
        "                   'Flavanoids', 'Nonflavanoid phenols', 'Proanthocyanins',\n",
        "                   'Color intensity', 'Hue',\n",
        "                   'OD280/OD315 of diluted wines', 'Proline']\n",
        "\n",
        "df_wine.head()"
      ],
      "execution_count": null,
      "outputs": [
        {
          "output_type": "execute_result",
          "data": {
            "text/plain": [
              "   Class label  Alcohol  Malic acid   Ash  Alcalinity of ash  Magnesium  \\\n",
              "0            1    14.23        1.71  2.43               15.6        127   \n",
              "1            1    13.20        1.78  2.14               11.2        100   \n",
              "2            1    13.16        2.36  2.67               18.6        101   \n",
              "3            1    14.37        1.95  2.50               16.8        113   \n",
              "4            1    13.24        2.59  2.87               21.0        118   \n",
              "\n",
              "   Total phenols  Flavanoids  Nonflavanoid phenols  Proanthocyanins  \\\n",
              "0           2.80        3.06                  0.28             2.29   \n",
              "1           2.65        2.76                  0.26             1.28   \n",
              "2           2.80        3.24                  0.30             2.81   \n",
              "3           3.85        3.49                  0.24             2.18   \n",
              "4           2.80        2.69                  0.39             1.82   \n",
              "\n",
              "   Color intensity   Hue  OD280/OD315 of diluted wines  Proline  \n",
              "0             5.64  1.04                          3.92     1065  \n",
              "1             4.38  1.05                          3.40     1050  \n",
              "2             5.68  1.03                          3.17     1185  \n",
              "3             7.80  0.86                          3.45     1480  \n",
              "4             4.32  1.04                          2.93      735  "
            ],
            "text/html": [
              "\n",
              "  <div id=\"df-5d6e2e4a-3d1c-4cc2-870c-0253fbb0d36b\">\n",
              "    <div class=\"colab-df-container\">\n",
              "      <div>\n",
              "<style scoped>\n",
              "    .dataframe tbody tr th:only-of-type {\n",
              "        vertical-align: middle;\n",
              "    }\n",
              "\n",
              "    .dataframe tbody tr th {\n",
              "        vertical-align: top;\n",
              "    }\n",
              "\n",
              "    .dataframe thead th {\n",
              "        text-align: right;\n",
              "    }\n",
              "</style>\n",
              "<table border=\"1\" class=\"dataframe\">\n",
              "  <thead>\n",
              "    <tr style=\"text-align: right;\">\n",
              "      <th></th>\n",
              "      <th>Class label</th>\n",
              "      <th>Alcohol</th>\n",
              "      <th>Malic acid</th>\n",
              "      <th>Ash</th>\n",
              "      <th>Alcalinity of ash</th>\n",
              "      <th>Magnesium</th>\n",
              "      <th>Total phenols</th>\n",
              "      <th>Flavanoids</th>\n",
              "      <th>Nonflavanoid phenols</th>\n",
              "      <th>Proanthocyanins</th>\n",
              "      <th>Color intensity</th>\n",
              "      <th>Hue</th>\n",
              "      <th>OD280/OD315 of diluted wines</th>\n",
              "      <th>Proline</th>\n",
              "    </tr>\n",
              "  </thead>\n",
              "  <tbody>\n",
              "    <tr>\n",
              "      <th>0</th>\n",
              "      <td>1</td>\n",
              "      <td>14.23</td>\n",
              "      <td>1.71</td>\n",
              "      <td>2.43</td>\n",
              "      <td>15.6</td>\n",
              "      <td>127</td>\n",
              "      <td>2.80</td>\n",
              "      <td>3.06</td>\n",
              "      <td>0.28</td>\n",
              "      <td>2.29</td>\n",
              "      <td>5.64</td>\n",
              "      <td>1.04</td>\n",
              "      <td>3.92</td>\n",
              "      <td>1065</td>\n",
              "    </tr>\n",
              "    <tr>\n",
              "      <th>1</th>\n",
              "      <td>1</td>\n",
              "      <td>13.20</td>\n",
              "      <td>1.78</td>\n",
              "      <td>2.14</td>\n",
              "      <td>11.2</td>\n",
              "      <td>100</td>\n",
              "      <td>2.65</td>\n",
              "      <td>2.76</td>\n",
              "      <td>0.26</td>\n",
              "      <td>1.28</td>\n",
              "      <td>4.38</td>\n",
              "      <td>1.05</td>\n",
              "      <td>3.40</td>\n",
              "      <td>1050</td>\n",
              "    </tr>\n",
              "    <tr>\n",
              "      <th>2</th>\n",
              "      <td>1</td>\n",
              "      <td>13.16</td>\n",
              "      <td>2.36</td>\n",
              "      <td>2.67</td>\n",
              "      <td>18.6</td>\n",
              "      <td>101</td>\n",
              "      <td>2.80</td>\n",
              "      <td>3.24</td>\n",
              "      <td>0.30</td>\n",
              "      <td>2.81</td>\n",
              "      <td>5.68</td>\n",
              "      <td>1.03</td>\n",
              "      <td>3.17</td>\n",
              "      <td>1185</td>\n",
              "    </tr>\n",
              "    <tr>\n",
              "      <th>3</th>\n",
              "      <td>1</td>\n",
              "      <td>14.37</td>\n",
              "      <td>1.95</td>\n",
              "      <td>2.50</td>\n",
              "      <td>16.8</td>\n",
              "      <td>113</td>\n",
              "      <td>3.85</td>\n",
              "      <td>3.49</td>\n",
              "      <td>0.24</td>\n",
              "      <td>2.18</td>\n",
              "      <td>7.80</td>\n",
              "      <td>0.86</td>\n",
              "      <td>3.45</td>\n",
              "      <td>1480</td>\n",
              "    </tr>\n",
              "    <tr>\n",
              "      <th>4</th>\n",
              "      <td>1</td>\n",
              "      <td>13.24</td>\n",
              "      <td>2.59</td>\n",
              "      <td>2.87</td>\n",
              "      <td>21.0</td>\n",
              "      <td>118</td>\n",
              "      <td>2.80</td>\n",
              "      <td>2.69</td>\n",
              "      <td>0.39</td>\n",
              "      <td>1.82</td>\n",
              "      <td>4.32</td>\n",
              "      <td>1.04</td>\n",
              "      <td>2.93</td>\n",
              "      <td>735</td>\n",
              "    </tr>\n",
              "  </tbody>\n",
              "</table>\n",
              "</div>\n",
              "      <button class=\"colab-df-convert\" onclick=\"convertToInteractive('df-5d6e2e4a-3d1c-4cc2-870c-0253fbb0d36b')\"\n",
              "              title=\"Convert this dataframe to an interactive table.\"\n",
              "              style=\"display:none;\">\n",
              "        \n",
              "  <svg xmlns=\"http://www.w3.org/2000/svg\" height=\"24px\"viewBox=\"0 0 24 24\"\n",
              "       width=\"24px\">\n",
              "    <path d=\"M0 0h24v24H0V0z\" fill=\"none\"/>\n",
              "    <path d=\"M18.56 5.44l.94 2.06.94-2.06 2.06-.94-2.06-.94-.94-2.06-.94 2.06-2.06.94zm-11 1L8.5 8.5l.94-2.06 2.06-.94-2.06-.94L8.5 2.5l-.94 2.06-2.06.94zm10 10l.94 2.06.94-2.06 2.06-.94-2.06-.94-.94-2.06-.94 2.06-2.06.94z\"/><path d=\"M17.41 7.96l-1.37-1.37c-.4-.4-.92-.59-1.43-.59-.52 0-1.04.2-1.43.59L10.3 9.45l-7.72 7.72c-.78.78-.78 2.05 0 2.83L4 21.41c.39.39.9.59 1.41.59.51 0 1.02-.2 1.41-.59l7.78-7.78 2.81-2.81c.8-.78.8-2.07 0-2.86zM5.41 20L4 18.59l7.72-7.72 1.47 1.35L5.41 20z\"/>\n",
              "  </svg>\n",
              "      </button>\n",
              "      \n",
              "  <style>\n",
              "    .colab-df-container {\n",
              "      display:flex;\n",
              "      flex-wrap:wrap;\n",
              "      gap: 12px;\n",
              "    }\n",
              "\n",
              "    .colab-df-convert {\n",
              "      background-color: #E8F0FE;\n",
              "      border: none;\n",
              "      border-radius: 50%;\n",
              "      cursor: pointer;\n",
              "      display: none;\n",
              "      fill: #1967D2;\n",
              "      height: 32px;\n",
              "      padding: 0 0 0 0;\n",
              "      width: 32px;\n",
              "    }\n",
              "\n",
              "    .colab-df-convert:hover {\n",
              "      background-color: #E2EBFA;\n",
              "      box-shadow: 0px 1px 2px rgba(60, 64, 67, 0.3), 0px 1px 3px 1px rgba(60, 64, 67, 0.15);\n",
              "      fill: #174EA6;\n",
              "    }\n",
              "\n",
              "    [theme=dark] .colab-df-convert {\n",
              "      background-color: #3B4455;\n",
              "      fill: #D2E3FC;\n",
              "    }\n",
              "\n",
              "    [theme=dark] .colab-df-convert:hover {\n",
              "      background-color: #434B5C;\n",
              "      box-shadow: 0px 1px 3px 1px rgba(0, 0, 0, 0.15);\n",
              "      filter: drop-shadow(0px 1px 2px rgba(0, 0, 0, 0.3));\n",
              "      fill: #FFFFFF;\n",
              "    }\n",
              "  </style>\n",
              "\n",
              "      <script>\n",
              "        const buttonEl =\n",
              "          document.querySelector('#df-5d6e2e4a-3d1c-4cc2-870c-0253fbb0d36b button.colab-df-convert');\n",
              "        buttonEl.style.display =\n",
              "          google.colab.kernel.accessAllowed ? 'block' : 'none';\n",
              "\n",
              "        async function convertToInteractive(key) {\n",
              "          const element = document.querySelector('#df-5d6e2e4a-3d1c-4cc2-870c-0253fbb0d36b');\n",
              "          const dataTable =\n",
              "            await google.colab.kernel.invokeFunction('convertToInteractive',\n",
              "                                                     [key], {});\n",
              "          if (!dataTable) return;\n",
              "\n",
              "          const docLinkHtml = 'Like what you see? Visit the ' +\n",
              "            '<a target=\"_blank\" href=https://colab.research.google.com/notebooks/data_table.ipynb>data table notebook</a>'\n",
              "            + ' to learn more about interactive tables.';\n",
              "          element.innerHTML = '';\n",
              "          dataTable['output_type'] = 'display_data';\n",
              "          await google.colab.output.renderOutput(dataTable, element);\n",
              "          const docLink = document.createElement('div');\n",
              "          docLink.innerHTML = docLinkHtml;\n",
              "          element.appendChild(docLink);\n",
              "        }\n",
              "      </script>\n",
              "    </div>\n",
              "  </div>\n",
              "  "
            ]
          },
          "metadata": {},
          "execution_count": 1
        }
      ]
    },
    {
      "cell_type": "markdown",
      "metadata": {
        "hidden": true,
        "id": "_PW1qR5go7HF"
      },
      "source": [
        "Splitting the data into 70% training and 30% test subsets."
      ]
    },
    {
      "cell_type": "code",
      "metadata": {
        "hidden": true,
        "id": "CvmJTjTUo7HG"
      },
      "source": [
        "from sklearn.model_selection import train_test_split\n",
        "\n",
        "X, y = df_wine.iloc[:, 1:].values, df_wine.iloc[:, 0].values        # setup the X feature matrix and y target vector\n",
        " \n",
        "X_train, X_test, y_train, y_test = \\\n",
        "    train_test_split(X, y, test_size=0.3, \n",
        "                     stratify=y,\n",
        "                     random_state=0)"
      ],
      "execution_count": null,
      "outputs": []
    },
    {
      "cell_type": "markdown",
      "metadata": {
        "hidden": true,
        "id": "vfGB9YeEo7HI"
      },
      "source": [
        "Standardizing the data."
      ]
    },
    {
      "cell_type": "code",
      "metadata": {
        "hidden": true,
        "id": "DldkrCslo7HJ"
      },
      "source": [
        "from sklearn.preprocessing import StandardScaler\n",
        "\n",
        "sc = StandardScaler()\n",
        "X_train_std = sc.fit_transform(X_train)        #combine the fit and transform methods\n",
        "X_test_std = sc.transform(X_test)"
      ],
      "execution_count": null,
      "outputs": []
    },
    {
      "cell_type": "markdown",
      "metadata": {
        "hidden": true,
        "id": "qtyNVbmjo7HN"
      },
      "source": [
        "In statistics, **variance** is used to describe the spread between a data set from its mean value.\n",
        "\n",
        "A **covariance** refers to the measure of how two variables will change when they are compared to each other. A positive covariance means both variables tend to move upward or downward at the same time. A negative covariance, on the other hand, means the variables will move away from each other. So when one rises, the other one falls.\n",
        "\n",
        "Assume we have a feature matrix with n rows and d columns. The covariance between two features $\\textbf{x}_j$ and $\\textbf{x}_k$ can be calculated by:\n",
        "\n",
        "$\\sigma_{jk} = \\frac{1}{n-1}\\Sigma_{i=1}^n(x_j^{(i)} - \\mu_j)(x_k^{(i)} - \\mu_k)$\n",
        "\n",
        "After standardization, the mean $\\mu$ is zero. So, the above formula can be simplified as:\n",
        "\n",
        "$\\sigma_{jk} = \\frac{1}{n-1} \\textbf{x}_j^T \\textbf{x}_k$\n",
        "\n",
        "\n",
        "**covariance matrix**:\n",
        "\n",
        "This is a symmetric d × d -dimensional matrix, where d is the number of dimensions in the feature matrix. Covariance matrix stores the **pairwise** covariances between the different features.\n",
        "\n",
        "As mentioned before, a positive covariance between two features indicates that the features increase or decrease together, whereas a negative covariance indicates that the features vary in opposite directions. The **covariance matrix** of three features can then be written as follows (note that ∑ stands for the Greek uppercase letter sigma, which is not to be confused with the sum symbol):\n",
        "\n",
        "\n",
        "$$\n",
        "\\Sigma = \\begin{bmatrix} \n",
        "\\sigma_1^2 & \\sigma_{12} & \\sigma_{13} \\\\\n",
        "\\sigma_{21} & \\sigma_2^2 & \\sigma_{23} \\\\\n",
        "\\sigma_{31} & \\sigma_{32} & \\sigma_3^2 \\\\\n",
        "\\end{bmatrix}\n",
        "$$\n",
        "\n",
        "\n"
      ]
    },
    {
      "cell_type": "code",
      "metadata": {
        "hidden": true,
        "id": "uJ66cFbjo7HN"
      },
      "source": [
        "import numpy as np\n",
        "cov_mat = np.cov(X_train_std.T) # note cov() requests row vectors, so we need a transpose"
      ],
      "execution_count": null,
      "outputs": []
    },
    {
      "cell_type": "code",
      "metadata": {
        "hidden": true,
        "id": "OlV6NO-mo7HQ",
        "colab": {
          "base_uri": "https://localhost:8080/"
        },
        "outputId": "f09fc577-bace-468e-b802-2b3b17e576a9"
      },
      "source": [
        "cov_mat.shape"
      ],
      "execution_count": null,
      "outputs": [
        {
          "output_type": "execute_result",
          "data": {
            "text/plain": [
              "(13, 13)"
            ]
          },
          "metadata": {},
          "execution_count": 5
        }
      ]
    },
    {
      "cell_type": "code",
      "metadata": {
        "id": "gLF9D0LvRZHD",
        "colab": {
          "base_uri": "https://localhost:8080/"
        },
        "outputId": "c1a130ff-9d04-4050-dc6d-449ff02a3b61"
      },
      "source": [
        "cov_mat"
      ],
      "execution_count": null,
      "outputs": [
        {
          "output_type": "execute_result",
          "data": {
            "text/plain": [
              "array([[ 1.00813008,  0.06709556,  0.17405351, -0.35439069,  0.26374703,\n",
              "         0.29079481,  0.21835807, -0.08111974,  0.10436705,  0.54282846,\n",
              "         0.05893536, -0.01797029,  0.6415292 ],\n",
              "       [ 0.06709556,  1.00813008,  0.08326463,  0.26356776, -0.11349172,\n",
              "        -0.33735555, -0.41035281,  0.33653916, -0.21602672,  0.17504154,\n",
              "        -0.551593  , -0.40561695, -0.24089991],\n",
              "       [ 0.17405351,  0.08326463,  1.00813008,  0.46420355,  0.29092834,\n",
              "         0.18020384,  0.15537535,  0.15918823, -0.00703776,  0.20549146,\n",
              "         0.00665422,  0.02039019,  0.223495  ],\n",
              "       [-0.35439069,  0.26356776,  0.46420355,  1.00813008, -0.07406447,\n",
              "        -0.28060672, -0.31391899,  0.31581353, -0.24621059, -0.08872685,\n",
              "        -0.22595587, -0.16799906, -0.46393412],\n",
              "       [ 0.26374703, -0.11349172,  0.29092834, -0.07406447,  1.00813008,\n",
              "         0.25667578,  0.21025773, -0.26003426,  0.19601657,  0.20606456,\n",
              "         0.13359768,  0.06633258,  0.41810999],\n",
              "       [ 0.29079481, -0.33735555,  0.18020384, -0.28060672,  0.25667578,\n",
              "         1.00813008,  0.87123661, -0.44979792,  0.62334099, -0.05689854,\n",
              "         0.50664086,  0.71978745,  0.52986924],\n",
              "       [ 0.21835807, -0.41035281,  0.15537535, -0.31391899,  0.21025773,\n",
              "         0.87123661,  1.00813008, -0.54824079,  0.64800868, -0.15864896,\n",
              "         0.60417124,  0.79319622,  0.52836141],\n",
              "       [-0.08111974,  0.33653916,  0.15918823,  0.31581353, -0.26003426,\n",
              "        -0.44979792, -0.54824079,  1.00813008, -0.39989328,  0.19810581,\n",
              "        -0.36629252, -0.57622953, -0.34099709],\n",
              "       [ 0.10436705, -0.21602672, -0.00703776, -0.24621059,  0.19601657,\n",
              "         0.62334099,  0.64800868, -0.39989328,  1.00813008, -0.00330144,\n",
              "         0.32019524,  0.50615495,  0.32976133],\n",
              "       [ 0.54282846,  0.17504154,  0.20549146, -0.08872685,  0.20606456,\n",
              "        -0.05689854, -0.15864896,  0.19810581, -0.00330144,  1.00813008,\n",
              "        -0.45834115, -0.4666752 ,  0.32156154],\n",
              "       [ 0.05893536, -0.551593  ,  0.00665422, -0.22595587,  0.13359768,\n",
              "         0.50664086,  0.60417124, -0.36629252,  0.32019524, -0.45834115,\n",
              "         1.00813008,  0.6435365 ,  0.35356248],\n",
              "       [-0.01797029, -0.40561695,  0.02039019, -0.16799906,  0.06633258,\n",
              "         0.71978745,  0.79319622, -0.57622953,  0.50615495, -0.4666752 ,\n",
              "         0.6435365 ,  1.00813008,  0.26670793],\n",
              "       [ 0.6415292 , -0.24089991,  0.223495  , -0.46393412,  0.41810999,\n",
              "         0.52986924,  0.52836141, -0.34099709,  0.32976133,  0.32156154,\n",
              "         0.35356248,  0.26670793,  1.00813008]])"
            ]
          },
          "metadata": {},
          "execution_count": 6
        }
      ]
    },
    {
      "cell_type": "markdown",
      "metadata": {
        "hidden": true,
        "id": "jv_cy1NWo7HS"
      },
      "source": [
        "**Eigendecomposition** of the covariance matrix:\n",
        "\n",
        "The eigenvectors of the covariance matrix represent the principal components (the directions of maximum variance), whereas the corresponding eigenvalues will define their magnitude.\n",
        "\n",
        "An eigenvector **v** satisfies the following condition:\n",
        "\n",
        "$\\Sigma \\textbf{v} = \\lambda \\textbf{v}$\n",
        "\n",
        "Here, λ is a scalar: the eigenvalue.\n"
      ]
    },
    {
      "cell_type": "code",
      "metadata": {
        "hidden": true,
        "id": "L5OHWDIEo7HU",
        "colab": {
          "base_uri": "https://localhost:8080/"
        },
        "outputId": "18fc5911-217c-4204-93e5-f29fda549b65"
      },
      "source": [
        "eigen_vals, eigen_vecs = np.linalg.eig(cov_mat)\n",
        "\n",
        "print('\\nEigenvalues \\n%s' % eigen_vals)\n",
        "print('\\nEigenvectors \\n%s' % eigen_vecs)"
      ],
      "execution_count": null,
      "outputs": [
        {
          "output_type": "stream",
          "name": "stdout",
          "text": [
            "\n",
            "Eigenvalues \n",
            "[4.84274532 2.41602459 1.54845825 0.96120438 0.84166161 0.6620634\n",
            " 0.51828472 0.34650377 0.3131368  0.10754642 0.21357215 0.15362835\n",
            " 0.1808613 ]\n",
            "\n",
            "Eigenvectors \n",
            "[[-1.37242175e-01  5.03034778e-01 -1.37748734e-01 -3.29610003e-03\n",
            "  -2.90625226e-01  2.99096847e-01  7.90529293e-02 -3.68176414e-01\n",
            "  -3.98377017e-01 -9.44869777e-02  3.74638877e-01 -1.27834515e-01\n",
            "   2.62834263e-01]\n",
            " [ 2.47243265e-01  1.64871190e-01  9.61503863e-02  5.62646692e-01\n",
            "   8.95378697e-02  6.27036396e-01 -2.74002014e-01 -1.25775752e-02\n",
            "   1.10458230e-01  2.63652406e-02 -1.37405597e-01  8.06401578e-02\n",
            "  -2.66769211e-01]\n",
            " [-2.54515927e-02  2.44564761e-01  6.77775667e-01 -1.08977111e-01\n",
            "  -1.60834991e-01  3.89128239e-04  1.32328045e-01  1.77578177e-01\n",
            "   3.82496856e-01  1.42747511e-01  4.61583035e-01  1.67924873e-02\n",
            "  -1.15542548e-01]\n",
            " [ 2.06945084e-01 -1.13529045e-01  6.25040550e-01  3.38187002e-02\n",
            "   5.15873402e-02 -4.05836452e-02  2.23999097e-01 -4.40592110e-01\n",
            "  -2.43373853e-01 -1.30485780e-01 -4.18953989e-01 -1.10845657e-01\n",
            "   1.99483410e-01]\n",
            " [-1.54365821e-01  2.89745182e-01  1.96135481e-01 -3.67511070e-01\n",
            "   6.76487073e-01  6.57772614e-02 -4.05268966e-01  1.16617503e-01\n",
            "  -2.58982359e-01 -6.76080782e-02  1.00470630e-02  7.93879562e-02\n",
            "   2.89018810e-02]\n",
            " [-3.93769523e-01  5.08010391e-02  1.40310572e-01  2.40245127e-01\n",
            "  -1.18511144e-01 -5.89776247e-02 -3.47419412e-02  3.50192127e-01\n",
            "  -3.42312860e-01  4.59917661e-01 -2.21254241e-01 -4.91459313e-01\n",
            "  -6.63868598e-02]\n",
            " [-4.17351064e-01 -2.28733792e-02  1.17053859e-01  1.87053299e-01\n",
            "  -1.07100349e-01 -3.01103180e-02  4.17835724e-02  2.18718183e-01\n",
            "  -3.61231642e-02 -8.14583947e-01 -4.17513600e-02 -5.03074004e-02\n",
            "  -2.13349079e-01]\n",
            " [ 3.05728961e-01  9.04888470e-02  1.31217777e-01 -2.29262234e-02\n",
            "  -5.07581610e-01 -2.71728086e-01 -6.31145686e-01  1.97129425e-01\n",
            "  -1.71436883e-01 -9.57480885e-02 -8.87569452e-02  1.75328030e-01\n",
            "   1.86391279e-01]\n",
            " [-3.06683469e-01  8.35232677e-03  3.04309008e-02  4.96262330e-01\n",
            "   2.01634619e-01 -4.39997519e-01 -3.23122775e-01 -4.33055871e-01\n",
            "   2.44370210e-01  6.72468934e-02  1.99921861e-01 -3.67595797e-03\n",
            "   1.68082985e-01]\n",
            " [ 7.55406578e-02  5.49775805e-01 -7.99299713e-02  1.06482939e-01\n",
            "   5.73607091e-03 -4.11743459e-01  2.69082623e-01 -6.68411823e-02\n",
            "  -1.55514919e-01  8.73336218e-02 -2.21668868e-01  3.59756535e-01\n",
            "  -4.66369031e-01]\n",
            " [-3.26132628e-01 -2.07164328e-01  5.30591506e-02 -3.69053747e-01\n",
            "  -2.76914216e-01  1.41673377e-01 -3.02640661e-01 -4.59762295e-01\n",
            "   2.11961247e-02  1.29061125e-01 -9.84694573e-02  4.04669797e-02\n",
            "  -5.32483880e-01]\n",
            " [-3.68610222e-01 -2.49025357e-01  1.32391030e-01  1.42016088e-01\n",
            "  -6.66275572e-02  1.75842384e-01  1.30540143e-01  1.10827548e-01\n",
            "  -2.38089559e-01  1.87646268e-01  1.91205783e-02  7.42229543e-01\n",
            "   2.37835283e-01]\n",
            " [-2.96696514e-01  3.80229423e-01 -7.06502178e-02 -1.67682173e-01\n",
            "  -1.28029045e-01  1.38018388e-01  8.11335043e-04  5.60817288e-03\n",
            "   5.17278463e-01  1.21112574e-02 -5.42532072e-01  3.87395209e-02\n",
            "   3.67763359e-01]]\n"
          ]
        }
      ]
    },
    {
      "cell_type": "markdown",
      "metadata": {
        "hidden": true,
        "id": "G_O5bChvo7HX"
      },
      "source": [
        "## Total and explained variance"
      ]
    },
    {
      "cell_type": "code",
      "metadata": {
        "hidden": true,
        "id": "rJxuQQSgo7HY"
      },
      "source": [
        "tot = sum(eigen_vals) # the total variance\n",
        "var_exp = [(i / tot) for i in sorted(eigen_vals, reverse=True)]\n",
        "cum_var_exp = np.cumsum(var_exp)"
      ],
      "execution_count": null,
      "outputs": []
    },
    {
      "cell_type": "code",
      "metadata": {
        "hidden": true,
        "id": "eKOGo8seo7Hc",
        "colab": {
          "base_uri": "https://localhost:8080/",
          "height": 254
        },
        "outputId": "a16b6d17-b190-468f-b62d-e59b622cce3c"
      },
      "source": [
        "%matplotlib inline\n",
        "import matplotlib.pyplot as plt\n",
        "\n",
        "f = plt.figure()\n",
        "f.set_figwidth(15)\n",
        "f.set_figheight(10)\n",
        "\n",
        "\n",
        "plt.bar(range(1, 14), var_exp, alpha=0.5, align='center',\n",
        "        label='individual explained variance')\n",
        "plt.step(range(1, 14), cum_var_exp, where='mid',\n",
        "         label='cumulative explained variance')\n",
        "plt.ylabel('Explained variance ratio')\n",
        "plt.xlabel('Principal component index')\n",
        "plt.legend(loc='best')\n",
        "plt.tight_layout()\n",
        "# plt.savefig('images/05_02.png', dpi=300)\n",
        "plt.show()"
      ],
      "execution_count": null,
      "outputs": [
        {
          "output_type": "error",
          "ename": "NameError",
          "evalue": "ignored",
          "traceback": [
            "\u001b[0;31m---------------------------------------------------------------------------\u001b[0m",
            "\u001b[0;31mNameError\u001b[0m                                 Traceback (most recent call last)",
            "\u001b[0;32m<ipython-input-9-291f37de3e11>\u001b[0m in \u001b[0;36m<module>\u001b[0;34m\u001b[0m\n\u001b[1;32m      7\u001b[0m \u001b[0;34m\u001b[0m\u001b[0m\n\u001b[1;32m      8\u001b[0m \u001b[0;34m\u001b[0m\u001b[0m\n\u001b[0;32m----> 9\u001b[0;31m plt.bar(range(1, 14), var_exp, alpha=0.5, align='center',\n\u001b[0m\u001b[1;32m     10\u001b[0m         label='individual explained variance')\n\u001b[1;32m     11\u001b[0m plt.step(range(1, 14), cum_var_exp, where='mid',\n",
            "\u001b[0;31mNameError\u001b[0m: name 'var_exp' is not defined"
          ]
        },
        {
          "output_type": "display_data",
          "data": {
            "text/plain": [
              "<Figure size 1080x720 with 0 Axes>"
            ]
          },
          "metadata": {}
        }
      ]
    },
    {
      "cell_type": "markdown",
      "metadata": {
        "hidden": true,
        "id": "WTgN1SnYo7Hf"
      },
      "source": [
        "The resulting plot indicates that the first principal component alone accounts for approximately 40 percent of the variance. Also, we can see that the first two principal components combined explain almost 60 percent of the variance in the dataset."
      ]
    },
    {
      "cell_type": "markdown",
      "metadata": {
        "hidden": true,
        "id": "pF1X-R--o7Hf"
      },
      "source": [
        "## Feature transformation"
      ]
    },
    {
      "cell_type": "code",
      "metadata": {
        "hidden": true,
        "id": "FikXpBMOo7Hg",
        "colab": {
          "base_uri": "https://localhost:8080/"
        },
        "outputId": "bb4d1eea-afba-49b2-80fc-859055b9746d"
      },
      "source": [
        "# Make a list of (eigenvalue, eigenvector) tuples\n",
        "eigen_pairs = [(eigen_vals[i], eigen_vecs[:, i]) for i in range(len(eigen_vals))]\n",
        "eigen_pairs"
      ],
      "execution_count": null,
      "outputs": [
        {
          "output_type": "execute_result",
          "data": {
            "text/plain": [
              "[(4.8427453156558915,\n",
              "  array([-0.13724218,  0.24724326, -0.02545159,  0.20694508, -0.15436582,\n",
              "         -0.39376952, -0.41735106,  0.30572896, -0.30668347,  0.07554066,\n",
              "         -0.32613263, -0.36861022, -0.29669651])),\n",
              " (2.4160245870352246,\n",
              "  array([ 0.50303478,  0.16487119,  0.24456476, -0.11352904,  0.28974518,\n",
              "          0.05080104, -0.02287338,  0.09048885,  0.00835233,  0.54977581,\n",
              "         -0.20716433, -0.24902536,  0.38022942])),\n",
              " (1.5484582488203502,\n",
              "  array([-0.13774873,  0.09615039,  0.67777567,  0.62504055,  0.19613548,\n",
              "          0.14031057,  0.11705386,  0.13121778,  0.0304309 , -0.07992997,\n",
              "          0.05305915,  0.13239103, -0.07065022])),\n",
              " (0.9612043774977349,\n",
              "  array([-0.0032961 ,  0.56264669, -0.10897711,  0.0338187 , -0.36751107,\n",
              "          0.24024513,  0.1870533 , -0.02292622,  0.49626233,  0.10648294,\n",
              "         -0.36905375,  0.14201609, -0.16768217])),\n",
              " (0.8416616104578446,\n",
              "  array([-0.29062523,  0.08953787, -0.16083499,  0.05158734,  0.67648707,\n",
              "         -0.11851114, -0.10710035, -0.50758161,  0.20163462,  0.00573607,\n",
              "         -0.27691422, -0.06662756, -0.12802904])),\n",
              " (0.6620634040383047,\n",
              "  array([ 2.99096847e-01,  6.27036396e-01,  3.89128239e-04, -4.05836452e-02,\n",
              "          6.57772614e-02, -5.89776247e-02, -3.01103180e-02, -2.71728086e-01,\n",
              "         -4.39997519e-01, -4.11743459e-01,  1.41673377e-01,  1.75842384e-01,\n",
              "          1.38018388e-01])),\n",
              " (0.5182847213561953,\n",
              "  array([ 0.07905293, -0.27400201,  0.13232805,  0.2239991 , -0.40526897,\n",
              "         -0.03474194,  0.04178357, -0.63114569, -0.32312277,  0.26908262,\n",
              "         -0.30264066,  0.13054014,  0.00081134])),\n",
              " (0.346503766412867,\n",
              "  array([-0.36817641, -0.01257758,  0.17757818, -0.44059211,  0.1166175 ,\n",
              "          0.35019213,  0.21871818,  0.19712942, -0.43305587, -0.06684118,\n",
              "         -0.45976229,  0.11082755,  0.00560817])),\n",
              " (0.3131368004720884,\n",
              "  array([-0.39837702,  0.11045823,  0.38249686, -0.24337385, -0.25898236,\n",
              "         -0.34231286, -0.03612316, -0.17143688,  0.24437021, -0.15551492,\n",
              "          0.02119612, -0.23808956,  0.51727846])),\n",
              " (0.10754642369671001,\n",
              "  array([-0.09448698,  0.02636524,  0.14274751, -0.13048578, -0.06760808,\n",
              "          0.45991766, -0.81458395, -0.09574809,  0.06724689,  0.08733362,\n",
              "          0.12906113,  0.18764627,  0.01211126])),\n",
              " (0.21357214660527324,\n",
              "  array([ 0.37463888, -0.1374056 ,  0.46158303, -0.41895399,  0.01004706,\n",
              "         -0.22125424, -0.04175136, -0.08875695,  0.19992186, -0.22166887,\n",
              "         -0.09846946,  0.01912058, -0.54253207])),\n",
              " (0.1536283500671102,\n",
              "  array([-0.12783451,  0.08064016,  0.01679249, -0.11084566,  0.07938796,\n",
              "         -0.49145931, -0.0503074 ,  0.17532803, -0.00367596,  0.35975654,\n",
              "          0.04046698,  0.74222954,  0.03873952])),\n",
              " (0.18086130479496623,\n",
              "  array([ 0.26283426, -0.26676921, -0.11554255,  0.19948341,  0.02890188,\n",
              "         -0.06638686, -0.21334908,  0.18639128,  0.16808299, -0.46636903,\n",
              "         -0.53248388,  0.23783528,  0.36776336]))]"
            ]
          },
          "metadata": {},
          "execution_count": 12
        }
      ]
    },
    {
      "cell_type": "code",
      "metadata": {
        "hidden": true,
        "id": "ezxqiq8Eo7Hm",
        "colab": {
          "base_uri": "https://localhost:8080/"
        },
        "outputId": "45976762-249a-4858-b70a-a1230772bb92"
      },
      "source": [
        "# Sort the (eigenvalue, eigenvector) tuples from high to low\n",
        "eigen_pairs.sort(key=lambda k: k[0], reverse=True)\n",
        "eigen_pairs"
      ],
      "execution_count": null,
      "outputs": [
        {
          "output_type": "execute_result",
          "data": {
            "text/plain": [
              "[(4.8427453156558915,\n",
              "  array([-0.13724218,  0.24724326, -0.02545159,  0.20694508, -0.15436582,\n",
              "         -0.39376952, -0.41735106,  0.30572896, -0.30668347,  0.07554066,\n",
              "         -0.32613263, -0.36861022, -0.29669651])),\n",
              " (2.4160245870352246,\n",
              "  array([ 0.50303478,  0.16487119,  0.24456476, -0.11352904,  0.28974518,\n",
              "          0.05080104, -0.02287338,  0.09048885,  0.00835233,  0.54977581,\n",
              "         -0.20716433, -0.24902536,  0.38022942])),\n",
              " (1.5484582488203502,\n",
              "  array([-0.13774873,  0.09615039,  0.67777567,  0.62504055,  0.19613548,\n",
              "          0.14031057,  0.11705386,  0.13121778,  0.0304309 , -0.07992997,\n",
              "          0.05305915,  0.13239103, -0.07065022])),\n",
              " (0.9612043774977349,\n",
              "  array([-0.0032961 ,  0.56264669, -0.10897711,  0.0338187 , -0.36751107,\n",
              "          0.24024513,  0.1870533 , -0.02292622,  0.49626233,  0.10648294,\n",
              "         -0.36905375,  0.14201609, -0.16768217])),\n",
              " (0.8416616104578446,\n",
              "  array([-0.29062523,  0.08953787, -0.16083499,  0.05158734,  0.67648707,\n",
              "         -0.11851114, -0.10710035, -0.50758161,  0.20163462,  0.00573607,\n",
              "         -0.27691422, -0.06662756, -0.12802904])),\n",
              " (0.6620634040383047,\n",
              "  array([ 2.99096847e-01,  6.27036396e-01,  3.89128239e-04, -4.05836452e-02,\n",
              "          6.57772614e-02, -5.89776247e-02, -3.01103180e-02, -2.71728086e-01,\n",
              "         -4.39997519e-01, -4.11743459e-01,  1.41673377e-01,  1.75842384e-01,\n",
              "          1.38018388e-01])),\n",
              " (0.5182847213561953,\n",
              "  array([ 0.07905293, -0.27400201,  0.13232805,  0.2239991 , -0.40526897,\n",
              "         -0.03474194,  0.04178357, -0.63114569, -0.32312277,  0.26908262,\n",
              "         -0.30264066,  0.13054014,  0.00081134])),\n",
              " (0.346503766412867,\n",
              "  array([-0.36817641, -0.01257758,  0.17757818, -0.44059211,  0.1166175 ,\n",
              "          0.35019213,  0.21871818,  0.19712942, -0.43305587, -0.06684118,\n",
              "         -0.45976229,  0.11082755,  0.00560817])),\n",
              " (0.3131368004720884,\n",
              "  array([-0.39837702,  0.11045823,  0.38249686, -0.24337385, -0.25898236,\n",
              "         -0.34231286, -0.03612316, -0.17143688,  0.24437021, -0.15551492,\n",
              "          0.02119612, -0.23808956,  0.51727846])),\n",
              " (0.21357214660527324,\n",
              "  array([ 0.37463888, -0.1374056 ,  0.46158303, -0.41895399,  0.01004706,\n",
              "         -0.22125424, -0.04175136, -0.08875695,  0.19992186, -0.22166887,\n",
              "         -0.09846946,  0.01912058, -0.54253207])),\n",
              " (0.18086130479496623,\n",
              "  array([ 0.26283426, -0.26676921, -0.11554255,  0.19948341,  0.02890188,\n",
              "         -0.06638686, -0.21334908,  0.18639128,  0.16808299, -0.46636903,\n",
              "         -0.53248388,  0.23783528,  0.36776336])),\n",
              " (0.1536283500671102,\n",
              "  array([-0.12783451,  0.08064016,  0.01679249, -0.11084566,  0.07938796,\n",
              "         -0.49145931, -0.0503074 ,  0.17532803, -0.00367596,  0.35975654,\n",
              "          0.04046698,  0.74222954,  0.03873952])),\n",
              " (0.10754642369671001,\n",
              "  array([-0.09448698,  0.02636524,  0.14274751, -0.13048578, -0.06760808,\n",
              "          0.45991766, -0.81458395, -0.09574809,  0.06724689,  0.08733362,\n",
              "          0.12906113,  0.18764627,  0.01211126]))]"
            ]
          },
          "metadata": {},
          "execution_count": 13
        }
      ]
    },
    {
      "cell_type": "code",
      "metadata": {
        "hidden": true,
        "id": "5Nhh2YQTo7Hu",
        "colab": {
          "base_uri": "https://localhost:8080/"
        },
        "outputId": "5e6dc31f-19b2-4385-9e20-4682e4f90f26"
      },
      "source": [
        "# the most important eigenvector, which as the largest/first eigenvalue in the sorted eigen_pairs\n",
        "eigen_pairs[0][1]"
      ],
      "execution_count": null,
      "outputs": [
        {
          "output_type": "execute_result",
          "data": {
            "text/plain": [
              "array([-0.13724218,  0.24724326, -0.02545159,  0.20694508, -0.15436582,\n",
              "       -0.39376952, -0.41735106,  0.30572896, -0.30668347,  0.07554066,\n",
              "       -0.32613263, -0.36861022, -0.29669651])"
            ]
          },
          "metadata": {},
          "execution_count": 14
        }
      ]
    },
    {
      "cell_type": "code",
      "metadata": {
        "hidden": true,
        "id": "t2-Uq0ceo7Hz",
        "colab": {
          "base_uri": "https://localhost:8080/"
        },
        "outputId": "139eccdb-da44-414f-b91d-ca6be9f7b460"
      },
      "source": [
        "# Collect the two eigenvectors that correspond to the two largest eigenvalues,\n",
        "w = np.array([eigen_pairs[0][1],\n",
        "              eigen_pairs[1][1]]).T\n",
        "print('Matrix W:\\n', w)             # shape 13x2"
      ],
      "execution_count": null,
      "outputs": [
        {
          "output_type": "stream",
          "name": "stdout",
          "text": [
            "Matrix W:\n",
            " [[-0.13724218  0.50303478]\n",
            " [ 0.24724326  0.16487119]\n",
            " [-0.02545159  0.24456476]\n",
            " [ 0.20694508 -0.11352904]\n",
            " [-0.15436582  0.28974518]\n",
            " [-0.39376952  0.05080104]\n",
            " [-0.41735106 -0.02287338]\n",
            " [ 0.30572896  0.09048885]\n",
            " [-0.30668347  0.00835233]\n",
            " [ 0.07554066  0.54977581]\n",
            " [-0.32613263 -0.20716433]\n",
            " [-0.36861022 -0.24902536]\n",
            " [-0.29669651  0.38022942]]\n"
          ]
        }
      ]
    },
    {
      "cell_type": "markdown",
      "metadata": {
        "hidden": true,
        "id": "-U2szUNXo7H2"
      },
      "source": [
        "Because after projection using the above W, now we only have two features, we can draw the classes of wine in a plane:"
      ]
    },
    {
      "cell_type": "code",
      "metadata": {
        "hidden": true,
        "id": "FYgPfgA1o7H3",
        "colab": {
          "base_uri": "https://localhost:8080/",
          "height": 729
        },
        "outputId": "e66e31df-937e-41e6-d730-55f91e33be94"
      },
      "source": [
        "X_train_pca = X_train_std @ w\n",
        "colors = ['r', 'b', 'g']\n",
        "markers = ['s', 'x', 'o']\n",
        "\n",
        "\n",
        "f = plt.figure()\n",
        "f.set_figwidth(10)\n",
        "f.set_figheight(10)\n",
        "\n",
        "for l, c, m in zip(np.unique(y_train), colors, markers):             #plot w labels for illustration, PCA is unsupervised and does not use label information\n",
        "    plt.scatter(X_train_pca[y_train == l, 0], \n",
        "                X_train_pca[y_train == l, 1], \n",
        "                c=c, label=l, marker=m)\n",
        "\n",
        "plt.xlabel('PC 1')\n",
        "plt.ylabel('PC 2')\n",
        "plt.legend(loc='lower left')\n",
        "plt.tight_layout()\n",
        "plt.show()"
      ],
      "execution_count": null,
      "outputs": [
        {
          "output_type": "display_data",
          "data": {
            "text/plain": [
              "<Figure size 720x720 with 1 Axes>"
            ],
            "image/png": "[encoded data removed]"
          },
          "metadata": {
            "needs_background": "light"
          }
        }
      ]
    },
    {
      "cell_type": "markdown",
      "metadata": {
        "hidden": true,
        "id": "zAxqvzkUo7H5"
      },
      "source": [
        "<br>\n",
        "<br>"
      ]
    },
    {
      "cell_type": "markdown",
      "metadata": {
        "hidden": true,
        "id": "Xi71j-mFo7H6"
      },
      "source": [
        "Optional: Another way to calculate w using Singular Value Decomposition (SVD):"
      ]
    },
    {
      "cell_type": "code",
      "metadata": {
        "hidden": true,
        "id": "O7_aWwmeo7H7",
        "colab": {
          "base_uri": "https://localhost:8080/"
        },
        "outputId": "32848811-c3b9-4a3e-be7a-1d45a1c7001a"
      },
      "source": [
        "U, s, V = np.linalg.svd(X_train_std)\n",
        "c1 = V.T[:, 0]\n",
        "c2 = V.T[:, 1]\n",
        "w = np.array([c1, c2]).T\n",
        "w"
      ],
      "execution_count": null,
      "outputs": [
        {
          "output_type": "execute_result",
          "data": {
            "text/plain": [
              "array([[-0.13724218,  0.50303478],\n",
              "       [ 0.24724326,  0.16487119],\n",
              "       [-0.02545159,  0.24456476],\n",
              "       [ 0.20694508, -0.11352904],\n",
              "       [-0.15436582,  0.28974518],\n",
              "       [-0.39376952,  0.05080104],\n",
              "       [-0.41735106, -0.02287338],\n",
              "       [ 0.30572896,  0.09048885],\n",
              "       [-0.30668347,  0.00835233],\n",
              "       [ 0.07554066,  0.54977581],\n",
              "       [-0.32613263, -0.20716433],\n",
              "       [-0.36861022, -0.24902536],\n",
              "       [-0.29669651,  0.38022942]])"
            ]
          },
          "metadata": {},
          "execution_count": 18
        }
      ]
    },
    {
      "cell_type": "markdown",
      "metadata": {
        "hidden": true,
        "id": "F_PalEmWo7H-"
      },
      "source": [
        "## Principal component analysis in scikit-learn"
      ]
    },
    {
      "cell_type": "code",
      "metadata": {
        "hidden": true,
        "id": "pWVp7zxJo7H_",
        "colab": {
          "base_uri": "https://localhost:8080/"
        },
        "outputId": "55959272-6f7a-4f92-d2b2-6018f901c1a0"
      },
      "source": [
        "from sklearn.decomposition import PCA\n",
        "\n",
        "pca = PCA()\n",
        "X_train_pca = pca.fit_transform(X_train_std)\n",
        "pca.explained_variance_ratio_"
      ],
      "execution_count": null,
      "outputs": [
        {
          "output_type": "execute_result",
          "data": {
            "text/plain": [
              "array([0.36951469, 0.18434927, 0.11815159, 0.07334252, 0.06422108,\n",
              "       0.05051724, 0.03954654, 0.02643918, 0.02389319, 0.01629614,\n",
              "       0.01380021, 0.01172226, 0.00820609])"
            ]
          },
          "metadata": {},
          "execution_count": 4
        }
      ]
    },
    {
      "cell_type": "code",
      "metadata": {
        "hidden": true,
        "id": "WveNOV86o7IB",
        "colab": {
          "base_uri": "https://localhost:8080/",
          "height": 279
        },
        "outputId": "462905a2-ab88-4260-9571-688d7a69ad53"
      },
      "source": [
        "plt.bar(range(1, 14), pca.explained_variance_ratio_, alpha=0.5, align='center')\n",
        "plt.step(range(1, 14), np.cumsum(pca.explained_variance_ratio_), where='mid')\n",
        "plt.ylabel('Explained variance ratio')\n",
        "plt.xlabel('Principal components')\n",
        "\n",
        "plt.show()"
      ],
      "execution_count": null,
      "outputs": [
        {
          "output_type": "display_data",
          "data": {
            "text/plain": [
              "<Figure size 432x288 with 1 Axes>"
            ],
            "image/png": "[encoded data removed]"
          },
          "metadata": {
            "needs_background": "light"
          }
        }
      ]
    },
    {
      "cell_type": "code",
      "metadata": {
        "hidden": true,
        "id": "eV5x3mhGo7ID"
      },
      "source": [
        "pca = PCA(n_components=2)\n",
        "X_train_pca = pca.fit_transform(X_train_std)\n",
        "X_test_pca = pca.transform(X_test_std)"
      ],
      "execution_count": null,
      "outputs": []
    },
    {
      "cell_type": "code",
      "source": [
        "import numpy as np\n",
        "import matplotlib.pyplot as plt"
      ],
      "metadata": {
        "id": "j3kRrvLeROMQ"
      },
      "execution_count": null,
      "outputs": []
    },
    {
      "cell_type": "code",
      "metadata": {
        "hidden": true,
        "id": "B1OoQYYoo7IF",
        "colab": {
          "base_uri": "https://localhost:8080/",
          "height": 729
        },
        "outputId": "278e056e-47db-4612-f9a6-447f2e1bde7f"
      },
      "source": [
        "colors = ['r', 'b', 'g']\n",
        "markers = ['s', 'x', 'o']\n",
        "\n",
        "f = plt.figure()\n",
        "f.set_figwidth(10)\n",
        "f.set_figheight(10)\n",
        "\n",
        "for l, c, m in zip(np.unique(y_train), colors, markers):\n",
        "    plt.scatter(X_train_pca[y_train == l, 0], \n",
        "                X_train_pca[y_train == l, 1], \n",
        "                c=c, label=l, marker=m)\n",
        "\n",
        "plt.xlabel('PC 1')\n",
        "plt.ylabel('PC 2')\n",
        "plt.legend(loc='lower left')\n",
        "plt.tight_layout()\n",
        "plt.show()"
      ],
      "execution_count": null,
      "outputs": [
        {
          "output_type": "display_data",
          "data": {
            "text/plain": [
              "<Figure size 720x720 with 1 Axes>"
            ],
            "image/png": "[encoded data removed]"
          },
          "metadata": {
            "needs_background": "light"
          }
        }
      ]
    },
    {
      "cell_type": "code",
      "metadata": {
        "hidden": true,
        "id": "5WbJ-4Jfo7IJ"
      },
      "source": [
        "from matplotlib.colors import ListedColormap\n",
        "\n",
        "def plot_decision_regions(X, y, classifier, resolution=0.02):\n",
        "\n",
        "    # setup marker generator and color map\n",
        "    markers = ('s', 'x', 'o', '^', 'v')\n",
        "    colors = ('red', 'blue', 'lightgreen', 'gray', 'cyan')\n",
        "    cmap = ListedColormap(colors[:len(np.unique(y))])\n",
        "\n",
        "    # plot the decision surface\n",
        "    x1_min, x1_max = X[:, 0].min() - 1, X[:, 0].max() + 1\n",
        "    x2_min, x2_max = X[:, 1].min() - 1, X[:, 1].max() + 1\n",
        "    xx1, xx2 = np.meshgrid(np.arange(x1_min, x1_max, resolution),\n",
        "                           np.arange(x2_min, x2_max, resolution))\n",
        "    Z = classifier.predict(np.array([xx1.ravel(), xx2.ravel()]).T)\n",
        "    Z = Z.reshape(xx1.shape)\n",
        "    plt.contourf(xx1, xx2, Z, alpha=0.4, cmap=cmap)\n",
        "    plt.xlim(xx1.min(), xx1.max())\n",
        "    plt.ylim(xx2.min(), xx2.max())\n",
        "\n",
        "    # plot class samples\n",
        "    for idx, cl in enumerate(np.unique(y)):\n",
        "        plt.scatter(x=X[y == cl, 0], \n",
        "                    y=X[y == cl, 1],\n",
        "                    alpha=0.6, \n",
        "                    c=[cmap(idx)],\n",
        "                    edgecolor='black',\n",
        "                    marker=markers[idx], \n",
        "                    label=cl)"
      ],
      "execution_count": null,
      "outputs": []
    },
    {
      "cell_type": "markdown",
      "metadata": {
        "hidden": true,
        "id": "XnYGLaLpo7IO"
      },
      "source": [
        "Training logistic regression classifier using the first 2 principal components."
      ]
    },
    {
      "cell_type": "code",
      "metadata": {
        "hidden": true,
        "id": "-F8Eygueo7IP"
      },
      "source": [
        "from sklearn.linear_model import LogisticRegression\n",
        "\n",
        "pca = PCA(n_components=2)         #restrict to 2 dimensions\n",
        "X_train_pca = pca.fit_transform(X_train_std)\n",
        "X_test_pca = pca.transform(X_test_std)\n",
        "\n",
        "lr = LogisticRegression(solver = 'lbfgs', multi_class='auto')\n",
        "lr = lr.fit(X_train_pca, y_train)"
      ],
      "execution_count": null,
      "outputs": []
    },
    {
      "cell_type": "code",
      "metadata": {
        "hidden": true,
        "id": "HLIzcrMMo7IS",
        "colab": {
          "base_uri": "https://localhost:8080/",
          "height": 729
        },
        "outputId": "6ae55be1-a366-483e-edb6-276d8d2d9bea"
      },
      "source": [
        "f = plt.figure()\n",
        "f.set_figwidth(10)\n",
        "f.set_figheight(10)\n",
        "\n",
        "plot_decision_regions(X_train_pca, y_train, classifier=lr)\n",
        "plt.xlabel('PC 1')\n",
        "plt.ylabel('PC 2')\n",
        "plt.legend(loc='lower left')\n",
        "plt.tight_layout()\n",
        "plt.show()"
      ],
      "execution_count": null,
      "outputs": [
        {
          "output_type": "display_data",
          "data": {
            "text/plain": [
              "<Figure size 720x720 with 1 Axes>"
            ],
            "image/png": "[encoded data removed]"
          },
          "metadata": {
            "needs_background": "light"
          }
        }
      ]
    },
    {
      "cell_type": "code",
      "metadata": {
        "colab": {
          "base_uri": "https://localhost:8080/"
        },
        "id": "ikhHSyG5JQVQ",
        "outputId": "3b137ff6-6e14-4ffc-9196-e6f33c440295"
      },
      "source": [
        "pca.components_"
      ],
      "execution_count": null,
      "outputs": [
        {
          "output_type": "execute_result",
          "data": {
            "text/plain": [
              "array([[-0.13724218,  0.24724326, -0.02545159,  0.20694508, -0.15436582,\n",
              "        -0.39376952, -0.41735106,  0.30572896, -0.30668347,  0.07554066,\n",
              "        -0.32613263, -0.36861022, -0.29669651],\n",
              "       [ 0.50303478,  0.16487119,  0.24456476, -0.11352904,  0.28974518,\n",
              "         0.05080104, -0.02287338,  0.09048885,  0.00835233,  0.54977581,\n",
              "        -0.20716433, -0.24902536,  0.38022942]])"
            ]
          },
          "metadata": {},
          "execution_count": 28
        }
      ]
    },
    {
      "cell_type": "code",
      "metadata": {
        "colab": {
          "base_uri": "https://localhost:8080/"
        },
        "id": "6HE_4KmLKPKE",
        "outputId": "772077b5-9a1b-454f-f19b-d050be2d5ec4"
      },
      "source": [
        "sc.scale_"
      ],
      "execution_count": null,
      "outputs": [
        {
          "output_type": "execute_result",
          "data": {
            "text/plain": [
              "array([8.23368566e-01, 1.16920747e+00, 2.68077071e-01, 3.32703937e+00,\n",
              "       1.40557715e+01, 6.14857030e-01, 1.01944562e+00, 1.21181532e-01,\n",
              "       5.90112089e-01, 2.36010810e+00, 2.20779765e-01, 6.92948052e-01,\n",
              "       3.25392246e+02])"
            ]
          },
          "metadata": {},
          "execution_count": 26
        }
      ]
    },
    {
      "cell_type": "code",
      "metadata": {
        "colab": {
          "base_uri": "https://localhost:8080/"
        },
        "id": "sqtxPFqvJuS2",
        "outputId": "e927f259-80c2-46e6-fe26-fd9ecbc8eb78"
      },
      "source": [
        "pca.components_ @ ((X_train[0] - sc.mean_) / sc.scale_)"
      ],
      "execution_count": null,
      "outputs": [
        {
          "output_type": "execute_result",
          "data": {
            "text/plain": [
              "array([2.38299011, 0.45458499])"
            ]
          },
          "metadata": {},
          "execution_count": 27
        }
      ]
    },
    {
      "cell_type": "code",
      "metadata": {
        "colab": {
          "base_uri": "https://localhost:8080/"
        },
        "id": "FgU6ennLKdhY",
        "outputId": "77ae1fe9-5148-4990-a484-693402126c18"
      },
      "source": [
        "X_train_std[0]"
      ],
      "execution_count": null,
      "outputs": [
        {
          "output_type": "execute_result",
          "data": {
            "text/plain": [
              "array([ 0.71225893,  2.22048673, -0.13025864,  0.05962872, -0.50432733,\n",
              "       -0.52831584, -1.24000033,  0.84118003, -1.05215112, -0.29218864,\n",
              "       -0.20017028, -0.82164144, -0.62946362])"
            ]
          },
          "metadata": {},
          "execution_count": 28
        }
      ]
    },
    {
      "cell_type": "code",
      "metadata": {
        "colab": {
          "base_uri": "https://localhost:8080/"
        },
        "id": "ouyX9N3fKGt7",
        "outputId": "62bc7a7d-9e3d-4ba5-c1b4-0952b214cda3"
      },
      "source": [
        "X_train_pca[0]"
      ],
      "execution_count": null,
      "outputs": [
        {
          "output_type": "execute_result",
          "data": {
            "text/plain": [
              "array([2.38299011, 0.45458499])"
            ]
          },
          "metadata": {},
          "execution_count": 29
        }
      ]
    },
    {
      "cell_type": "code",
      "metadata": {
        "hidden": true,
        "id": "ZNTy-Qkto7IU",
        "colab": {
          "base_uri": "https://localhost:8080/",
          "height": 729
        },
        "outputId": "1d181b32-0ad8-4776-e44a-108df7e48920"
      },
      "source": [
        "f = plt.figure()\n",
        "f.set_figwidth(10)\n",
        "f.set_figheight(10)\n",
        "\n",
        "plot_decision_regions(X_test_pca, y_test, classifier=lr)\n",
        "plt.xlabel('PC 1')\n",
        "plt.ylabel('PC 2')\n",
        "plt.legend(loc='lower left')\n",
        "plt.tight_layout()\n",
        "plt.show()"
      ],
      "execution_count": null,
      "outputs": [
        {
          "output_type": "display_data",
          "data": {
            "text/plain": [
              "<Figure size 720x720 with 1 Axes>"
            ],
            "image/png": "[encoded data removed]"
          },
          "metadata": {
            "needs_background": "light"
          }
        }
      ]
    },
    {
      "cell_type": "code",
      "metadata": {
        "hidden": true,
        "id": "8pUJ6kwto7IW",
        "colab": {
          "base_uri": "https://localhost:8080/"
        },
        "outputId": "16110ed1-4c09-407d-b434-ac12d265a4da"
      },
      "source": [
        "pca = PCA(n_components=None) # list all the eigenvalues\n",
        "X_train_pca = pca.fit_transform(X_train_std)\n",
        "pca.explained_variance_ratio_"
      ],
      "execution_count": null,
      "outputs": [
        {
          "output_type": "execute_result",
          "data": {
            "text/plain": [
              "array([0.36951469, 0.18434927, 0.11815159, 0.07334252, 0.06422108,\n",
              "       0.05051724, 0.03954654, 0.02643918, 0.02389319, 0.01629614,\n",
              "       0.01380021, 0.01172226, 0.00820609])"
            ]
          },
          "metadata": {},
          "execution_count": 31
        }
      ]
    },
    {
      "cell_type": "markdown",
      "metadata": {
        "hidden": true,
        "id": "3Gt3O_Hpo7IZ"
      },
      "source": [
        "**Strengths:** \n",
        "\n",
        "- It is fast and simple to implement, which means you can easily test algorithms with and without PCA to compare performance. \n",
        "- It offers kernel PCA to provide nonlinear transformation (I will mention this later).\n",
        "\n",
        "**Weaknesses:**\n",
        "\n",
        "- The new principal components are not interpretable\n",
        "- Not easy to apply when features have both the numeric and categorical variables"
      ]
    },
    {
      "cell_type": "markdown",
      "metadata": {
        "id": "NjlNq8TNo7IZ"
      },
      "source": [
        "# Supervised data compression via **linear discriminant analysis (LDA)**"
      ]
    },
    {
      "cell_type": "markdown",
      "metadata": {
        "id": "0HMOwvn6o7Ia"
      },
      "source": [
        " Unlike PCA, LDA doesn't maximize explained variance. Instead, it maximizes the separability between classes."
      ]
    },
    {
      "cell_type": "markdown",
      "metadata": {
        "id": "JWx-XLk4-0Xc"
      },
      "source": [
        "<div>\n",
        "<img src=\"https://github.com/franklin-univ-data-science/data/blob/master/images/05_06.png?raw=true\" width=\"600\"/>\n",
        "</div>"
      ]
    },
    {
      "cell_type": "markdown",
      "metadata": {
        "id": "-xTTB3jco7Id"
      },
      "source": [
        "Here, the x-axis (LD 1), would separate the two normal distributed classes well. "
      ]
    },
    {
      "cell_type": "markdown",
      "metadata": {
        "id": "xPfLzRtXo7Id"
      },
      "source": [
        "## LDA via scikit-learn"
      ]
    },
    {
      "cell_type": "code",
      "metadata": {
        "id": "xVgBogB-o7Ie"
      },
      "source": [
        "from sklearn.discriminant_analysis import LinearDiscriminantAnalysis as LDA\n",
        "\n",
        "lda = LDA(n_components=2)            #restrict to 2 dimensions for plot\n",
        "X_train_lda = lda.fit_transform(X_train_std, y_train)"
      ],
      "execution_count": null,
      "outputs": []
    },
    {
      "cell_type": "code",
      "metadata": {
        "id": "7JWQzn5yo7Ig",
        "colab": {
          "base_uri": "https://localhost:8080/",
          "height": 729
        },
        "outputId": "46f4b730-f56c-424f-9da4-ec40cf2c0e82"
      },
      "source": [
        "from sklearn.linear_model import LogisticRegression\n",
        "lr = LogisticRegression(solver='lbfgs', multi_class='auto')\n",
        "lr = lr.fit(X_train_lda, y_train)\n",
        "\n",
        "f = plt.figure()\n",
        "f.set_figwidth(10)\n",
        "f.set_figheight(10)\n",
        "\n",
        "plot_decision_regions(X_train_lda, y_train, classifier=lr)\n",
        "plt.xlabel('LD 1')\n",
        "plt.ylabel('LD 2')\n",
        "plt.legend(loc='lower left')\n",
        "plt.tight_layout()\n",
        "plt.show()"
      ],
      "execution_count": null,
      "outputs": [
        {
          "output_type": "display_data",
          "data": {
            "text/plain": [
              "<Figure size 720x720 with 1 Axes>"
            ],
            "image/png": "[encoded data removed]"
          },
          "metadata": {
            "needs_background": "light"
          }
        }
      ]
    },
    {
      "cell_type": "code",
      "metadata": {
        "id": "mSTfjwsfo7Ij",
        "colab": {
          "base_uri": "https://localhost:8080/",
          "height": 729
        },
        "outputId": "05bf3ce7-3b7b-45d5-ada3-9db7ffcaef3f"
      },
      "source": [
        "X_test_lda = lda.transform(X_test_std)\n",
        "\n",
        "f = plt.figure()\n",
        "f.set_figwidth(10)\n",
        "f.set_figheight(10)\n",
        "\n",
        "plot_decision_regions(X_test_lda, y_test, classifier=lr)\n",
        "plt.xlabel('LD 1')\n",
        "plt.ylabel('LD 2')\n",
        "plt.legend(loc='lower left')\n",
        "plt.tight_layout()\n",
        "plt.show()"
      ],
      "execution_count": null,
      "outputs": [
        {
          "output_type": "display_data",
          "data": {
            "text/plain": [
              "<Figure size 720x720 with 1 Axes>"
            ],
            "image/png": "[encoded data removed]"
          },
          "metadata": {
            "needs_background": "light"
          }
        }
      ]
    },
    {
      "cell_type": "markdown",
      "metadata": {
        "id": "vBAKuZUho7Im"
      },
      "source": [
        "<br>\n",
        "<br>"
      ]
    },
    {
      "cell_type": "markdown",
      "metadata": {
        "collapsed": true,
        "id": "XoyQAMFfo7In"
      },
      "source": [
        "# Using **kernel principal component** analysis for nonlinear mappings"
      ]
    },
    {
      "cell_type": "markdown",
      "metadata": {
        "id": "SnO_ivQk_RoY"
      },
      "source": [
        "<div>\n",
        "<img src=\"https://github.com/franklin-univ-data-science/data/blob/master/images/05_11.png?raw=true\" width=\"600\"/>\n",
        "</div>"
      ]
    },
    {
      "cell_type": "markdown",
      "metadata": {
        "id": "FaI5FQzno7Iq"
      },
      "source": [
        "## Kernel principal component analysis in scikit-learn"
      ]
    },
    {
      "cell_type": "markdown",
      "metadata": {
        "id": "R6TwicbAo7Ir"
      },
      "source": [
        "### Example: Separating half-moon shapes"
      ]
    },
    {
      "cell_type": "code",
      "metadata": {
        "id": "0msdp6ULo7Is",
        "colab": {
          "base_uri": "https://localhost:8080/",
          "height": 592
        },
        "outputId": "b30601ad-6ac6-46bf-ef19-efd2c137ac17"
      },
      "source": [
        "import matplotlib.pyplot as plt\n",
        "from sklearn.datasets import make_moons\n",
        "\n",
        "f = plt.figure()\n",
        "f.set_figwidth(10)\n",
        "f.set_figheight(10)\n",
        "\n",
        "\n",
        "X, y = make_moons(n_samples=100, random_state=123)\n",
        "plt.scatter(X[y==0, 0], X[y==0, 1],\n",
        "            color='red', marker='^', alpha=0.5)\n",
        "plt.scatter(X[y==1, 0], X[y==1, 1],\n",
        "            color='blue', marker='o', alpha=0.5)\n",
        "plt.show()"
      ],
      "execution_count": null,
      "outputs": [
        {
          "output_type": "display_data",
          "data": {
            "text/plain": [
              "<Figure size 720x720 with 1 Axes>"
            ],
            "image/png": "[encoded data removed]"
          },
          "metadata": {
            "needs_background": "light"
          }
        }
      ]
    },
    {
      "cell_type": "code",
      "metadata": {
        "id": "qyE8sqSpo7Iy",
        "colab": {
          "base_uri": "https://localhost:8080/",
          "height": 729
        },
        "outputId": "5936ed6a-80cc-4d02-8c77-89c793b2e330"
      },
      "source": [
        "from sklearn.decomposition import KernelPCA\n",
        "\n",
        "scikit_kpca = KernelPCA(n_components=2, kernel='rbf', gamma=30, degree=2) # larger gamma fits data more closely\n",
        "X_skernpca = scikit_kpca.fit_transform(X)\n",
        "\n",
        "f = plt.figure()\n",
        "f.set_figwidth(10)\n",
        "f.set_figheight(10)\n",
        "\n",
        "plt.scatter(X_skernpca[y == 0, 0], X_skernpca[y == 0, 1],\n",
        "            color='red', marker='^', alpha=0.5)\n",
        "plt.scatter(X_skernpca[y == 1, 0], X_skernpca[y == 1, 1],\n",
        "            color='blue', marker='o', alpha=0.5)\n",
        "\n",
        "plt.xlabel('PC1')\n",
        "plt.ylabel('PC2')\n",
        "plt.tight_layout()\n",
        "plt.show()"
      ],
      "execution_count": null,
      "outputs": [
        {
          "output_type": "display_data",
          "data": {
            "text/plain": [
              "<Figure size 720x720 with 1 Axes>"
            ],
            "image/png": "[encoded data removed]"
          },
          "metadata": {
            "needs_background": "light"
          }
        }
      ]
    },
    {
      "cell_type": "code",
      "metadata": {
        "colab": {
          "base_uri": "https://localhost:8080/",
          "height": 297
        },
        "id": "3k3491X4G4sX",
        "outputId": "6c65f7b6-7811-400c-ae75-4417a85fd9bd"
      },
      "source": [
        "from sklearn.linear_model import LogisticRegression\n",
        "\n",
        "scikit_kpca = KernelPCA(n_components=2, kernel='rbf', gamma=0.01, degree=2)       # larger gamma fits data more closely. demo w/ different values\n",
        "X_skernpca = scikit_kpca.fit_transform(X_train_std)\n",
        "\n",
        "lr = LogisticRegression(solver='lbfgs', multi_class='auto')\n",
        "lr = lr.fit(X_skernpca, y_train)\n",
        "\n",
        "plot_decision_regions(X_skernpca, y_train, classifier=lr)\n",
        "plt.xlabel('Kernel PCA 1')\n",
        "plt.ylabel('Kernel PCA 2')\n",
        "plt.legend(loc='lower left')\n",
        "plt.tight_layout()\n",
        "plt.show()"
      ],
      "execution_count": null,
      "outputs": [
        {
          "output_type": "display_data",
          "data": {
            "text/plain": [
              "<Figure size 432x288 with 1 Axes>"
            ],
            "image/png": "[encoded data removed]"
          },
          "metadata": {
            "needs_background": "light"
          }
        }
      ]
    },
    {
      "cell_type": "code",
      "source": [],
      "metadata": {
        "id": "uL9dcDXWU1rh"
      },
      "execution_count": null,
      "outputs": []
    }
  ]
}